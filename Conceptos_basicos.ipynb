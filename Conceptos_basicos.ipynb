{
  "nbformat": 4,
  "nbformat_minor": 0,
  "metadata": {
    "colab": {
      "provenance": [],
      "authorship_tag": "ABX9TyMSQG6yIFbWpu13C2/t2pKz",
      "include_colab_link": true
    },
    "kernelspec": {
      "name": "python3",
      "display_name": "Python 3"
    },
    "language_info": {
      "name": "python"
    }
  },
  "cells": [
    {
      "cell_type": "markdown",
      "metadata": {
        "id": "view-in-github",
        "colab_type": "text"
      },
      "source": [
        "<a href=\"https://colab.research.google.com/github/Josexnlx/conceptos-basicos/blob/main/Conceptos_basicos.ipynb\" target=\"_parent\"><img src=\"https://colab.research.google.com/assets/colab-badge.svg\" alt=\"Open In Colab\"/></a>"
      ]
    },
    {
      "cell_type": "markdown",
      "source": [
        "# Conceptos básicos - Jose Ballesteros"
      ],
      "metadata": {
        "id": "qNuzA7RVshN4"
      }
    },
    {
      "cell_type": "markdown",
      "source": [
        "Tipos de variable"
      ],
      "metadata": {
        "id": "E-CcJt7PuKM9"
      }
    },
    {
      "cell_type": "code",
      "source": [
        "x = 1 # entero\n",
        "\n",
        "y = 2.5 # float\n",
        "\n",
        "nombre = \"Jose\" #string\n",
        "\n",
        "apellido = \"Rodriguez\"\n",
        "\n",
        "print(type(x))\n",
        "print(type(y))\n",
        "print(type(nombre))\n"
      ],
      "metadata": {
        "colab": {
          "base_uri": "https://localhost:8080/"
        },
        "id": "9mUApBLAuJfe",
        "outputId": "7c80b188-dc34-49b0-9a68-e2214aa67838"
      },
      "execution_count": null,
      "outputs": [
        {
          "output_type": "stream",
          "name": "stdout",
          "text": [
            "<class 'int'>\n",
            "<class 'float'>\n",
            "<class 'str'>\n"
          ]
        }
      ]
    },
    {
      "cell_type": "code",
      "source": [
        "resultados = x + y\n",
        "print(resultados)"
      ],
      "metadata": {
        "colab": {
          "base_uri": "https://localhost:8080/"
        },
        "id": "5w9vv0KHwIzZ",
        "outputId": "bbc27bf1-a6a3-4a81-cebb-eed8d82a6750"
      },
      "execution_count": null,
      "outputs": [
        {
          "output_type": "stream",
          "name": "stdout",
          "text": [
            "3.5\n"
          ]
        }
      ]
    },
    {
      "cell_type": "code",
      "source": [
        "nombre_completo = nombre + \" \" + apellido\n",
        "print(nombre_completo)"
      ],
      "metadata": {
        "colab": {
          "base_uri": "https://localhost:8080/"
        },
        "id": "PPSp5YVlxc5G",
        "outputId": "b7d1d824-a5c7-41fd-8252-f885d3681059"
      },
      "execution_count": null,
      "outputs": [
        {
          "output_type": "stream",
          "name": "stdout",
          "text": [
            "Jose Rodriguez\n"
          ]
        }
      ]
    },
    {
      "cell_type": "code",
      "source": [
        "resultados = x + y\n",
        "print(\"El resultado de la suma de X y Y es:\",resultados)"
      ],
      "metadata": {
        "colab": {
          "base_uri": "https://localhost:8080/"
        },
        "id": "7tibnnsvxiUt",
        "outputId": "20a39cbb-f5b7-4902-9904-d1d5d3153cb0"
      },
      "execution_count": null,
      "outputs": [
        {
          "output_type": "stream",
          "name": "stdout",
          "text": [
            "El resultado de la suma de X y Y es: 3.5\n"
          ]
        }
      ]
    },
    {
      "cell_type": "code",
      "source": [
        "# input\n",
        "nombre = input(\"Ingrese su nombre: \")\n",
        "print(\"Hola\",nombre)"
      ],
      "metadata": {
        "colab": {
          "base_uri": "https://localhost:8080/"
        },
        "id": "zgD7Q9sEctxE",
        "outputId": "67eccae8-e414-4f24-fdd2-30247d0c21bc"
      },
      "execution_count": null,
      "outputs": [
        {
          "output_type": "stream",
          "name": "stdout",
          "text": [
            "Ingrese su nombre: Jose\n",
            "Hola Jose\n"
          ]
        }
      ]
    },
    {
      "cell_type": "code",
      "source": [
        "# round\n",
        "\n",
        "x = 1.4567877556\n",
        "print(round(x,2))"
      ],
      "metadata": {
        "colab": {
          "base_uri": "https://localhost:8080/"
        },
        "id": "tfG7UEtJeU_J",
        "outputId": "1ee3ee26-e354-4516-9583-fccd57e018f6"
      },
      "execution_count": null,
      "outputs": [
        {
          "output_type": "stream",
          "name": "stdout",
          "text": [
            "1.46\n"
          ]
        }
      ]
    },
    {
      "cell_type": "markdown",
      "source": [
        "Crear un programa donde se solicite su nombre y edad que automaticamente imprima un mensaje que le diga cuantos años tendra en 5 años más"
      ],
      "metadata": {
        "id": "kp_zcmdPejLj"
      }
    },
    {
      "cell_type": "markdown",
      "source": [
        "# **Estructuras de datos **"
      ],
      "metadata": {
        "id": "yEZqch8Dr8LI"
      }
    },
    {
      "cell_type": "code",
      "source": [
        "nombre = input(\"ingrese su nombre: \")\n",
        "edad = int(input(\"ingrese su edad: \"))\n",
        "edad_futura = edad + 5\n",
        "print(\"Hola\",nombre,\"tu edad en 5 años sera: \",edad_futura)"
      ],
      "metadata": {
        "colab": {
          "base_uri": "https://localhost:8080/"
        },
        "id": "WB8Gyh5vecij",
        "outputId": "e2ec5586-7f9f-44ec-a587-960a4600c28b"
      },
      "execution_count": null,
      "outputs": [
        {
          "output_type": "stream",
          "name": "stdout",
          "text": [
            "ingrese su nombre: Jose\n",
            "ingrese su edad: 19\n",
            "Hola Jose tu edad en 5 años sera:  24\n"
          ]
        }
      ]
    },
    {
      "cell_type": "code",
      "source": [
        "# Crear lista\n",
        "\n",
        "mi_lista = [1,2,3,4,5]\n",
        "print(mi_lista)"
      ],
      "metadata": {
        "colab": {
          "base_uri": "https://localhost:8080/"
        },
        "id": "SZ2ssekgglQT",
        "outputId": "17836655-639b-4443-d6e0-a4155dd85e23"
      },
      "execution_count": null,
      "outputs": [
        {
          "output_type": "stream",
          "name": "stdout",
          "text": [
            "[1, 2, 3, 4, 5]\n"
          ]
        }
      ]
    },
    {
      "cell_type": "code",
      "source": [
        "print(mi_lista[4])"
      ],
      "metadata": {
        "colab": {
          "base_uri": "https://localhost:8080/"
        },
        "id": "HHg-Xs-XlDpq",
        "outputId": "57ed3438-b338-4c8e-9857-1015580c0607"
      },
      "execution_count": null,
      "outputs": [
        {
          "output_type": "stream",
          "name": "stdout",
          "text": [
            "5\n"
          ]
        }
      ]
    },
    {
      "cell_type": "code",
      "source": [
        "print(len(mi_lista))"
      ],
      "metadata": {
        "colab": {
          "base_uri": "https://localhost:8080/"
        },
        "id": "voe6IRsAlWq1",
        "outputId": "aad4b647-12b6-44e7-b6b5-27594b53755c"
      },
      "execution_count": null,
      "outputs": [
        {
          "output_type": "stream",
          "name": "stdout",
          "text": [
            "5\n"
          ]
        }
      ]
    },
    {
      "cell_type": "code",
      "source": [
        "mi_lista.append(9)\n",
        "print(mi_lista)"
      ],
      "metadata": {
        "colab": {
          "base_uri": "https://localhost:8080/"
        },
        "id": "1zdb3POTlds7",
        "outputId": "0faf1ab9-8925-439d-eb1a-65ba30661cd5"
      },
      "execution_count": null,
      "outputs": [
        {
          "output_type": "stream",
          "name": "stdout",
          "text": [
            "[1, 2, 3, 4, 5, 6, 9]\n"
          ]
        }
      ]
    },
    {
      "cell_type": "code",
      "source": [
        "frutas = [\"manzana\",\"pera\",\"banana\"]\n",
        "frutas.append(\"mango\")\n",
        "frutas.append(\"uva\")\n",
        "frutas.append(\"piña\")\n",
        "print(frutas)"
      ],
      "metadata": {
        "colab": {
          "base_uri": "https://localhost:8080/"
        },
        "id": "3G90u5bal22I",
        "outputId": "61ed8865-37d2-4319-be8a-f5fb8aef45cc"
      },
      "execution_count": null,
      "outputs": [
        {
          "output_type": "stream",
          "name": "stdout",
          "text": [
            "['manzana', 'pera', 'banana', 'mango', 'uva', 'piña']\n"
          ]
        }
      ]
    },
    {
      "cell_type": "code",
      "source": [
        "frutas.remove(\"banana\")\n",
        "print(frutas)"
      ],
      "metadata": {
        "colab": {
          "base_uri": "https://localhost:8080/"
        },
        "id": "2dFiXtsnmfRg",
        "outputId": "4285bb33-83f8-4391-c6b6-cecb4e1a3e9c"
      },
      "execution_count": null,
      "outputs": [
        {
          "output_type": "stream",
          "name": "stdout",
          "text": [
            "['manzana', 'pera', 'mango', 'uva', 'piña']\n"
          ]
        }
      ]
    },
    {
      "cell_type": "code",
      "source": [
        "frutas[0]= \"fresa\"\n",
        "print(frutas)"
      ],
      "metadata": {
        "colab": {
          "base_uri": "https://localhost:8080/"
        },
        "id": "SjdW7ER8mtBa",
        "outputId": "f65972dc-c15c-4b53-e35f-bac78a2f3d04"
      },
      "execution_count": null,
      "outputs": [
        {
          "output_type": "stream",
          "name": "stdout",
          "text": [
            "['fresa', 'pera', 'mango', 'uva', 'piña']\n"
          ]
        }
      ]
    },
    {
      "cell_type": "code",
      "source": [
        "type(frutas)"
      ],
      "metadata": {
        "colab": {
          "base_uri": "https://localhost:8080/"
        },
        "id": "Ap_IlDrSnWkI",
        "outputId": "911ef582-16cc-434d-ea71-89f8f38055e3"
      },
      "execution_count": null,
      "outputs": [
        {
          "output_type": "execute_result",
          "data": {
            "text/plain": [
              "list"
            ]
          },
          "metadata": {},
          "execution_count": 37
        }
      ]
    },
    {
      "cell_type": "code",
      "source": [
        "# tupla\n",
        "mi_tupla = (1,2,3,4,5)\n",
        "print(mi_tupla)\n",
        "type(mi_tupla)"
      ],
      "metadata": {
        "colab": {
          "base_uri": "https://localhost:8080/"
        },
        "id": "de_00z5Xm-JT",
        "outputId": "1a6afe68-2d8c-4dcf-e395-a9707aeb23ab"
      },
      "execution_count": null,
      "outputs": [
        {
          "output_type": "stream",
          "name": "stdout",
          "text": [
            "(1, 2, 3, 4, 5)\n"
          ]
        },
        {
          "output_type": "execute_result",
          "data": {
            "text/plain": [
              "tuple"
            ]
          },
          "metadata": {},
          "execution_count": 38
        }
      ]
    },
    {
      "cell_type": "code",
      "source": [
        "mi_diccionario = {\"nombre\":\"Jose\",\"edad\":19}\n",
        "print(mi_diccionario)\n",
        "type(mi_diccionario)"
      ],
      "metadata": {
        "colab": {
          "base_uri": "https://localhost:8080/"
        },
        "id": "Ah9ag9nLqCxZ",
        "outputId": "12be5501-eacd-4611-ac50-597906250090"
      },
      "execution_count": null,
      "outputs": [
        {
          "output_type": "stream",
          "name": "stdout",
          "text": [
            "{'nombre': 'Jose', 'edad': 19}\n"
          ]
        },
        {
          "output_type": "execute_result",
          "data": {
            "text/plain": [
              "dict"
            ]
          },
          "metadata": {},
          "execution_count": 44
        }
      ]
    },
    {
      "cell_type": "code",
      "source": [
        "mi_diccionario[\"nombre\"] = \"Jose David\"\n",
        "mi_diccionario[\"edad\"] = 20\n",
        "print(mi_diccionario)"
      ],
      "metadata": {
        "colab": {
          "base_uri": "https://localhost:8080/"
        },
        "id": "4DgR7lifqkFh",
        "outputId": "9917a153-d366-48dd-9aee-f66d3bda03a1"
      },
      "execution_count": null,
      "outputs": [
        {
          "output_type": "stream",
          "name": "stdout",
          "text": [
            "{'nombre': 'Jose David', 'edad': 20}\n"
          ]
        }
      ]
    },
    {
      "cell_type": "code",
      "source": [
        "# Crear un diccionario\n",
        "mi_diccionario = {\"nombre\": \"Jose\", \"edad\": 19}\n",
        "print(\"Diccionario original:\", mi_diccionario)\n",
        "\n",
        "# Agregar un nuevo par clave-valor\n",
        "mi_diccionario[\"ciudad\"] = \"Bogota\"\n",
        "print(\"Diccionario después de agregar ciudad:\", mi_diccionario)\n",
        "\n",
        "# Agregar otro nuevo par clave-valor\n",
        "mi_diccionario[\"profesion\"] = \"Estudiante\"\n",
        "print(\"Diccionario después de agregar profesion:\", mi_diccionario)"
      ],
      "metadata": {
        "colab": {
          "base_uri": "https://localhost:8080/"
        },
        "id": "9zGyxhfmrDoY",
        "outputId": "a2e2e1c8-c12f-4a82-84f6-fd5f94defa82"
      },
      "execution_count": null,
      "outputs": [
        {
          "output_type": "stream",
          "name": "stdout",
          "text": [
            "Diccionario original: {'nombre': 'Jose', 'edad': 19}\n",
            "Diccionario después de agregar ciudad: {'nombre': 'Jose', 'edad': 19, 'ciudad': 'Bogota'}\n",
            "Diccionario después de agregar profesion: {'nombre': 'Jose', 'edad': 19, 'ciudad': 'Bogota', 'profesion': 'Estudiante'}\n"
          ]
        }
      ]
    },
    {
      "cell_type": "markdown",
      "source": [
        "# Estructura de control de flujo"
      ],
      "metadata": {
        "id": "lmey5_m9sJwG"
      }
    },
    {
      "cell_type": "code",
      "source": [
        "nota = input(\"ingrese un numero: \")\n",
        "nota = int(nota)\n",
        "\n",
        "if nota >= 5:\n",
        "    print(\"Aprobado\")\n",
        "else:\n",
        "    print(\"Reprobado\")"
      ],
      "metadata": {
        "colab": {
          "base_uri": "https://localhost:8080/"
        },
        "id": "d3gLFmmxsNjR",
        "outputId": "bbe5d038-b9e5-42f7-8411-76ab89fb1638"
      },
      "execution_count": null,
      "outputs": [
        {
          "output_type": "stream",
          "name": "stdout",
          "text": [
            "ingrese un numero: 4\n",
            "Reprobado\n"
          ]
        }
      ]
    },
    {
      "cell_type": "code",
      "source": [
        "edad = input(\"ingrese su edad: \")\n",
        "edad = int(edad)\n",
        "\n",
        "if edad < 2:\n",
        "    print(\"es un infante\")\n",
        "elif edad >= 2 and edad < 12:\n",
        "    print(\"es un niño\")\n",
        "elif edad >= 13 and edad < 17:\n",
        "    print(\"es un adolescente\")\n",
        "elif edad >= 18 and edad < 64:\n",
        "    print(\"es un adulto\")\n",
        "else:\n",
        "  print(\"es un adulto mayor\")\n",
        "\n",
        "#"
      ],
      "metadata": {
        "colab": {
          "base_uri": "https://localhost:8080/"
        },
        "outputId": "787ee287-7619-4d3e-da99-f4522d5db956",
        "id": "Wqsd3WUZwYpR"
      },
      "execution_count": null,
      "outputs": [
        {
          "output_type": "stream",
          "name": "stdout",
          "text": [
            "ingrese su edad: 19\n",
            "es un adulto\n"
          ]
        }
      ]
    },
    {
      "cell_type": "code",
      "source": [
        "# Bucles for\n",
        "frutas = [\"manzana\",\"pera\",\"banana\",\"cereza\"]\n",
        "for fruta in frutas:\n",
        "    print(\"me gusta comer\",fruta)"
      ],
      "metadata": {
        "colab": {
          "base_uri": "https://localhost:8080/"
        },
        "id": "dpW-Pq8mwcxh",
        "outputId": "e701d2fb-ad9d-4b0f-93d2-a7c4ba1b00d3"
      },
      "execution_count": null,
      "outputs": [
        {
          "output_type": "stream",
          "name": "stdout",
          "text": [
            "me gusta comer manzana\n",
            "me gusta comer pera\n",
            "me gusta comer banana\n",
            "me gusta comer cereza\n"
          ]
        }
      ]
    },
    {
      "cell_type": "code",
      "source": [
        "lista = [1,2,3,4,5]\n",
        "for numero in lista:\n",
        "    print(numero*10)"
      ],
      "metadata": {
        "colab": {
          "base_uri": "https://localhost:8080/"
        },
        "id": "nC-xnNOXzLH4",
        "outputId": "d02e4981-90d1-43a7-940e-e8de8aaf8ad3"
      },
      "execution_count": null,
      "outputs": [
        {
          "output_type": "stream",
          "name": "stdout",
          "text": [
            "10\n",
            "20\n",
            "30\n",
            "40\n",
            "50\n"
          ]
        }
      ]
    },
    {
      "cell_type": "code",
      "source": [
        "# Bucle while\n",
        "contador = 0\n",
        "while contador < 11:\n",
        "    print(\"El contador es:\", contador)\n",
        "    contador += 1"
      ],
      "metadata": {
        "colab": {
          "base_uri": "https://localhost:8080/"
        },
        "id": "O0NiWGzTfyTg",
        "outputId": "1e2956c4-4e00-407c-f452-4a2a89e4e8ec"
      },
      "execution_count": null,
      "outputs": [
        {
          "output_type": "stream",
          "name": "stdout",
          "text": [
            "El contador es: 0\n",
            "El contador es: 1\n",
            "El contador es: 2\n",
            "El contador es: 3\n",
            "El contador es: 4\n",
            "El contador es: 5\n",
            "El contador es: 6\n",
            "El contador es: 7\n",
            "El contador es: 8\n",
            "El contador es: 9\n",
            "El contador es: 10\n"
          ]
        }
      ]
    },
    {
      "cell_type": "markdown",
      "source": [
        "**Funciones**"
      ],
      "metadata": {
        "id": "kOkIfgeAgi6A"
      }
    },
    {
      "cell_type": "code",
      "source": [
        "def saludo():\n",
        "  print(\"hello amigo!\")"
      ],
      "metadata": {
        "id": "shJe8S-5gn1z"
      },
      "execution_count": null,
      "outputs": []
    },
    {
      "cell_type": "code",
      "source": [
        "def holaconnombre(name):\n",
        "  print(\"hola \"+ name+\"!\")"
      ],
      "metadata": {
        "id": "H8KnoZH2g_4w"
      },
      "execution_count": null,
      "outputs": []
    },
    {
      "cell_type": "code",
      "source": [
        "holaconnombre(\"jose\")"
      ],
      "metadata": {
        "colab": {
          "base_uri": "https://localhost:8080/"
        },
        "id": "ys6ssVJFhQST",
        "outputId": "e8e4ea92-174e-45f0-b1c8-2cb0d7aa1e22"
      },
      "execution_count": null,
      "outputs": [
        {
          "output_type": "stream",
          "name": "stdout",
          "text": [
            "hola jose!\n"
          ]
        }
      ]
    },
    {
      "cell_type": "code",
      "source": [
        "def sumatoria (nuermo1,nuermo2):\n",
        " resultado = nuermo1 * nuermo2\n",
        " return resultado"
      ],
      "metadata": {
        "id": "Nmm7BcLLhmZP"
      },
      "execution_count": null,
      "outputs": []
    },
    {
      "cell_type": "code",
      "source": [
        "sumatoria (5, 20)"
      ],
      "metadata": {
        "colab": {
          "base_uri": "https://localhost:8080/"
        },
        "id": "otTF5SVchzcV",
        "outputId": "8c20797f-5c09-4100-c398-33cf913aa1ce"
      },
      "execution_count": null,
      "outputs": [
        {
          "output_type": "execute_result",
          "data": {
            "text/plain": [
              "100"
            ]
          },
          "metadata": {},
          "execution_count": 13
        }
      ]
    },
    {
      "cell_type": "code",
      "source": [
        "import math\n",
        "\n",
        "radio = 5\n",
        "area = math.pi * (radio ** 2)\n",
        "print(\"El área del círculo con radio\", radio, \"es:\", area)"
      ],
      "metadata": {
        "colab": {
          "base_uri": "https://localhost:8080/"
        },
        "id": "tQY1YwgOiNos",
        "outputId": "77bbcd96-1fb2-4dc2-e0bd-87577aec3626"
      },
      "execution_count": null,
      "outputs": [
        {
          "output_type": "stream",
          "name": "stdout",
          "text": [
            "El área del círculo con radio 5 es: 78.53981633974483\n"
          ]
        }
      ]
    },
    {
      "cell_type": "code",
      "source": [
        "def celsius_a_fahrenheit(celsius):\n",
        "  \"\"\"Convierte grados Celsius a Fahrenheit.\"\"\"\n",
        "  fahrenheit = (celsius * 9/5) + 32\n",
        "  return fahrenheit\n",
        "\n",
        "# Ejemplo de uso\n",
        "temperatura_celsius = 33\n",
        "temperatura_fahrenheit = celsius_a_fahrenheit(temperatura_celsius)\n",
        "print(f\"{temperatura_celsius} grados Celsius son {temperatura_fahrenheit} grados Fahrenheit.\")"
      ],
      "metadata": {
        "colab": {
          "base_uri": "https://localhost:8080/"
        },
        "id": "UdPVnM62jVwp",
        "outputId": "cea268f4-1652-4b91-b842-2ac0fa5075ca"
      },
      "execution_count": null,
      "outputs": [
        {
          "output_type": "stream",
          "name": "stdout",
          "text": [
            "33 grados Celsius son 91.4 grados Fahrenheit.\n"
          ]
        }
      ]
    },
    {
      "cell_type": "markdown",
      "source": [
        "**Librerias**"
      ],
      "metadata": {
        "id": "1vM9ewNgkYU5"
      }
    },
    {
      "cell_type": "code",
      "source": [
        "import pandas as pd"
      ],
      "metadata": {
        "id": "gkThn2zGkrOJ"
      },
      "execution_count": null,
      "outputs": []
    },
    {
      "cell_type": "code",
      "source": [
        "import pandas as pd\n",
        "\n",
        "# Datos de ejemplo para una industria minorista\n",
        "data = {\n",
        "    'Producto': ['Camisa', 'Pantalón', 'Zapatos', 'Camisa', 'Zapatos'],\n",
        "    'Categoria': ['Ropa', 'Ropa', 'Calzado', 'Ropa', 'Calzado'],\n",
        "    'Precio': [25.00, 40.00, 60.00, 25.00, 60.00],\n",
        "    'Cantidad_Vendida': [10, 8, 5, 15, 7],\n",
        "    'Fecha_Venta': ['2023-01-15', '2023-01-15', '2023-01-16', '2023-01-16', '2023-01-17']\n",
        "}\n",
        "\n",
        "df_ventas = pd.DataFrame(data)\n",
        "\n",
        "print(\"Ejemplo de DataFrame de ventas:\")\n",
        "print(df_ventas)"
      ],
      "metadata": {
        "colab": {
          "base_uri": "https://localhost:8080/"
        },
        "id": "xTF8AnPqlRpG",
        "outputId": "007d8c55-3bcb-4eb1-dbee-688502cfde1b"
      },
      "execution_count": null,
      "outputs": [
        {
          "output_type": "stream",
          "name": "stdout",
          "text": [
            "Ejemplo de DataFrame de ventas:\n",
            "   Producto Categoria  Precio  Cantidad_Vendida Fecha_Venta\n",
            "0    Camisa      Ropa    25.0                10  2023-01-15\n",
            "1  Pantalón      Ropa    40.0                 8  2023-01-15\n",
            "2   Zapatos   Calzado    60.0                 5  2023-01-16\n",
            "3    Camisa      Ropa    25.0                15  2023-01-16\n",
            "4   Zapatos   Calzado    60.0                 7  2023-01-17\n"
          ]
        }
      ]
    }
  ]
}